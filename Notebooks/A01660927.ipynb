{
 "cells": [
  {
   "attachments": {},
   "cell_type": "markdown",
   "metadata": {},
   "source": [
    "# Moisés Adame Aguilar (A01660927) 👨🏼‍💻"
   ]
  },
  {
   "cell_type": "code",
   "execution_count": 2,
   "metadata": {},
   "outputs": [
    {
     "name": "stdout",
     "output_type": "stream",
     "text": [
      "Hello World!\n"
     ]
    }
   ],
   "source": [
    "print('Hello World!')"
   ]
  },
  {
   "cell_type": "code",
   "execution_count": 21,
   "metadata": {},
   "outputs": [
    {
     "name": "stdout",
     "output_type": "stream",
     "text": [
      "Reality: 20825\n",
      "Sum: 20825.0\n",
      "New Res: 20825.0\n"
     ]
    }
   ],
   "source": [
    "conuter = 0\n",
    "n = 49\n",
    "\n",
    "def p(n):\n",
    "    return n * n - (n * (n-1)) / (2)\n",
    "\n",
    "\n",
    "def new_res(n):\n",
    "    return n * (n * n + 3 * n + 2) / 6\n",
    "\n",
    "for k in range(1, n + 1):\n",
    "    for j in range(1, k + 1):\n",
    "        for i in range(1, j + 1):\n",
    "            conuter += 1\n",
    "            \n",
    "print(f'Reality: {conuter}')\n",
    "print(f'Sum: {res(n)}')\n",
    "print(f'New Res: {new_res(n)}')"
   ]
  },
  {
   "cell_type": "code",
   "execution_count": 7,
   "metadata": {},
   "outputs": [
    {
     "name": "stdout",
     "output_type": "stream",
     "text": [
      "Index: 30\n",
      "Sum: 102.8021767463649\n"
     ]
    }
   ],
   "source": [
    "import math as mt\n",
    "sum = 0\n",
    "index = 1\n",
    "while sum <= 100:\n",
    "    sum += mt.log2(index)\n",
    "    #print(f'log2({index}) = {mt.log2(index)}')\n",
    "    index += 1\n",
    "\n",
    "print(f'Index: {index}')\n",
    "print(f'Sum: {sum}')"
   ]
  },
  {
   "cell_type": "code",
   "execution_count": 8,
   "metadata": {},
   "outputs": [
    {
     "data": {
      "text/plain": [
       "1267650600228229401496703205376"
      ]
     },
     "execution_count": 8,
     "metadata": {},
     "output_type": "execute_result"
    }
   ],
   "source": [
    "2**100"
   ]
  },
  {
   "cell_type": "code",
   "execution_count": 11,
   "metadata": {},
   "outputs": [
    {
     "data": {
      "text/plain": [
       "8841761993739701954543616000000"
      ]
     },
     "execution_count": 11,
     "metadata": {},
     "output_type": "execute_result"
    }
   ],
   "source": [
    "def fact(n):\n",
    "    if n == 0 or n == 1:\n",
    "        return 1\n",
    "    else:\n",
    "        return n * fact(n - 1)\n",
    "    \n",
    "\n",
    "fact(29)"
   ]
  }
 ],
 "metadata": {
  "kernelspec": {
   "display_name": "Python 3",
   "language": "python",
   "name": "python3"
  },
  "language_info": {
   "codemirror_mode": {
    "name": "ipython",
    "version": 3
   },
   "file_extension": ".py",
   "mimetype": "text/x-python",
   "name": "python",
   "nbconvert_exporter": "python",
   "pygments_lexer": "ipython3",
   "version": "3.9.6"
  },
  "orig_nbformat": 4
 },
 "nbformat": 4,
 "nbformat_minor": 2
}

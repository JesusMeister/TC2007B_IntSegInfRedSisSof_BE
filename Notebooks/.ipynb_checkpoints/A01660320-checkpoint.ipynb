{
 "cells": [
  {
   "cell_type": "markdown",
   "id": "c201c363-5572-48cc-9e6a-31cb07ff5e77",
   "metadata": {},
   "source": [
    "# Owen Rosales Castro"
   ]
  },
  {
   "cell_type": "code",
   "execution_count": 1,
   "id": "6ccb6770-607d-4f70-8ba5-7549b5a13307",
   "metadata": {},
   "outputs": [
    {
     "name": "stdout",
     "output_type": "stream",
     "text": [
      "Hola mundo. :)\n"
     ]
    }
   ],
   "source": [
    "print(\"Hola mundo. :)\")"
   ]
  }
 ],
 "metadata": {
  "kernelspec": {
   "display_name": "Python 3 (ipykernel)",
   "language": "python",
   "name": "python3"
  },
  "language_info": {
   "codemirror_mode": {
    "name": "ipython",
    "version": 3
   },
   "file_extension": ".py",
   "mimetype": "text/x-python",
   "name": "python",
   "nbconvert_exporter": "python",
   "pygments_lexer": "ipython3",
   "version": "3.11.4"
  }
 },
 "nbformat": 4,
 "nbformat_minor": 5
}

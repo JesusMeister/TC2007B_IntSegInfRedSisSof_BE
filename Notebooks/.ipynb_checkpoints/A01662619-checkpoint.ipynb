{
 "cells": [
  {
   "cell_type": "markdown",
   "id": "3c53dd3a-b987-4534-9f13-dd4cf945b0e6",
   "metadata": {},
   "source": [
    "# Luis Roberto Martinez Ramirez"
   ]
  },
  {
   "cell_type": "code",
   "execution_count": 1,
   "id": "2f3c0b05-914d-4278-a3c9-02508e355cee",
   "metadata": {},
   "outputs": [
    {
     "name": "stdout",
     "output_type": "stream",
     "text": [
      "hola mundo\n"
     ]
    }
   ],
   "source": [
    "print (\"hola mundo\")"
   ]
  },
  {
   "cell_type": "code",
   "execution_count": null,
   "id": "ee22535f-c1de-42e3-af36-5163dccd77d8",
   "metadata": {},
   "outputs": [],
   "source": []
  }
 ],
 "metadata": {
  "kernelspec": {
   "display_name": "Python 3 (ipykernel)",
   "language": "python",
   "name": "python3"
  },
  "language_info": {
   "codemirror_mode": {
    "name": "ipython",
    "version": 3
   },
   "file_extension": ".py",
   "mimetype": "text/x-python",
   "name": "python",
   "nbconvert_exporter": "python",
   "pygments_lexer": "ipython3",
   "version": "3.10.9"
  }
 },
 "nbformat": 4,
 "nbformat_minor": 5
}

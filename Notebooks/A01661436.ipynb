{
 "cells": [
  {
   "cell_type": "markdown",
   "id": "a6d4a674",
   "metadata": {},
   "source": [
    "# Jorge Diego Martell Fernández"
   ]
  },
  {
   "cell_type": "code",
   "execution_count": 2,
   "id": "0780e992",
   "metadata": {},
   "outputs": [
    {
     "name": "stdout",
     "output_type": "stream",
     "text": [
      "¡Hola, mundo y arriba las Chivas!\n"
     ]
    }
   ],
   "source": [
    "print(\"¡Hola, mundo y arriba las Chivas!\")"
   ]
  },
  {
   "cell_type": "code",
   "execution_count": null,
   "id": "c70b9fa5",
   "metadata": {},
   "outputs": [],
   "source": []
  }
 ],
 "metadata": {
  "kernelspec": {
   "display_name": "Python 3 (ipykernel)",
   "language": "python",
   "name": "python3"
  },
  "language_info": {
   "codemirror_mode": {
    "name": "ipython",
    "version": 3
   },
   "file_extension": ".py",
   "mimetype": "text/x-python",
   "name": "python",
   "nbconvert_exporter": "python",
   "pygments_lexer": "ipython3",
   "version": "3.9.13"
  }
 },
 "nbformat": 4,
 "nbformat_minor": 5
}
